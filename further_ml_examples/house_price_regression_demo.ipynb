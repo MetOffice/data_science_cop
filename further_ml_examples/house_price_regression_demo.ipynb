{
 "cells": [
  {
   "cell_type": "markdown",
   "metadata": {},
   "source": [
    "# Boston house price regression\n",
    "\n",
    "This is a dataset of house prices in Boston, which can be used to understand regression algorithms. The input data is variety of value and category based data so it also demonstrates various types of data preparation.\n",
    "\n",
    "Sources and further learning:\n",
    "    \n",
    "* http://archive.ics.uci.edu/ml/machine-learning-databases/housing/\n",
    "* https://scikit-learn.org/stable/datasets/index.html#boston-house-prices-dataset\n",
    "* https://www.kaggle.com/vikrishnan/boston-house-prices\n",
    "* https://towardsdatascience.com/machine-learning-project-predicting-boston-house-prices-with-regression-b4e47493633d"
   ]
  },
  {
   "cell_type": "code",
   "execution_count": 1,
   "metadata": {},
   "outputs": [],
   "source": [
    "import os\n",
    "import pandas\n",
    "import numpy\n",
    "import matplotlib\n",
    "import matplotlib.pyplot"
   ]
  },
  {
   "cell_type": "code",
   "execution_count": 2,
   "metadata": {},
   "outputs": [],
   "source": [
    "import sklearn\n",
    "import sklearn.datasets\n",
    "import sklearn.model_selection\n",
    "import sklearn.preprocessing\n",
    "import sklearn.neighbors\n",
    "import sklearn.linear_model\n",
    "import sklearn.neural_network\n",
    "import sklearn.kernel_ridge\n",
    "import sklearn.svm\n",
    "import sklearn.metrics\n",
    "import sklearn.decomposition\n",
    "import sklearn.ensemble"
   ]
  },
  {
   "cell_type": "markdown",
   "metadata": {},
   "source": [
    "## Data loading, preprocessing and exploration\n"
   ]
  },
  {
   "cell_type": "code",
   "execution_count": 3,
   "metadata": {},
   "outputs": [
    {
     "data": {
      "text/html": [
       "<div>\n",
       "<style scoped>\n",
       "    .dataframe tbody tr th:only-of-type {\n",
       "        vertical-align: middle;\n",
       "    }\n",
       "\n",
       "    .dataframe tbody tr th {\n",
       "        vertical-align: top;\n",
       "    }\n",
       "\n",
       "    .dataframe thead th {\n",
       "        text-align: right;\n",
       "    }\n",
       "</style>\n",
       "<table border=\"1\" class=\"dataframe\">\n",
       "  <thead>\n",
       "    <tr style=\"text-align: right;\">\n",
       "      <th></th>\n",
       "      <th>CRIM</th>\n",
       "      <th>ZN</th>\n",
       "      <th>INDUS</th>\n",
       "      <th>CHAS</th>\n",
       "      <th>NOX</th>\n",
       "      <th>RM</th>\n",
       "      <th>AGE</th>\n",
       "      <th>DIS</th>\n",
       "      <th>RAD</th>\n",
       "      <th>TAX</th>\n",
       "      <th>PTRATIO</th>\n",
       "      <th>B</th>\n",
       "      <th>LSTAT</th>\n",
       "      <th>MEDV</th>\n",
       "    </tr>\n",
       "  </thead>\n",
       "  <tbody>\n",
       "    <tr>\n",
       "      <th>0</th>\n",
       "      <td>0.00632</td>\n",
       "      <td>18.0</td>\n",
       "      <td>2.31</td>\n",
       "      <td>0</td>\n",
       "      <td>0.538</td>\n",
       "      <td>6.575</td>\n",
       "      <td>65.2</td>\n",
       "      <td>4.0900</td>\n",
       "      <td>1</td>\n",
       "      <td>296.0</td>\n",
       "      <td>15.3</td>\n",
       "      <td>396.90</td>\n",
       "      <td>4.98</td>\n",
       "      <td>24.0</td>\n",
       "    </tr>\n",
       "    <tr>\n",
       "      <th>1</th>\n",
       "      <td>0.02731</td>\n",
       "      <td>0.0</td>\n",
       "      <td>7.07</td>\n",
       "      <td>0</td>\n",
       "      <td>0.469</td>\n",
       "      <td>6.421</td>\n",
       "      <td>78.9</td>\n",
       "      <td>4.9671</td>\n",
       "      <td>2</td>\n",
       "      <td>242.0</td>\n",
       "      <td>17.8</td>\n",
       "      <td>396.90</td>\n",
       "      <td>9.14</td>\n",
       "      <td>21.6</td>\n",
       "    </tr>\n",
       "    <tr>\n",
       "      <th>2</th>\n",
       "      <td>0.02729</td>\n",
       "      <td>0.0</td>\n",
       "      <td>7.07</td>\n",
       "      <td>0</td>\n",
       "      <td>0.469</td>\n",
       "      <td>7.185</td>\n",
       "      <td>61.1</td>\n",
       "      <td>4.9671</td>\n",
       "      <td>2</td>\n",
       "      <td>242.0</td>\n",
       "      <td>17.8</td>\n",
       "      <td>392.83</td>\n",
       "      <td>4.03</td>\n",
       "      <td>34.7</td>\n",
       "    </tr>\n",
       "    <tr>\n",
       "      <th>3</th>\n",
       "      <td>0.03237</td>\n",
       "      <td>0.0</td>\n",
       "      <td>2.18</td>\n",
       "      <td>0</td>\n",
       "      <td>0.458</td>\n",
       "      <td>6.998</td>\n",
       "      <td>45.8</td>\n",
       "      <td>6.0622</td>\n",
       "      <td>3</td>\n",
       "      <td>222.0</td>\n",
       "      <td>18.7</td>\n",
       "      <td>394.63</td>\n",
       "      <td>2.94</td>\n",
       "      <td>33.4</td>\n",
       "    </tr>\n",
       "    <tr>\n",
       "      <th>4</th>\n",
       "      <td>0.06905</td>\n",
       "      <td>0.0</td>\n",
       "      <td>2.18</td>\n",
       "      <td>0</td>\n",
       "      <td>0.458</td>\n",
       "      <td>7.147</td>\n",
       "      <td>54.2</td>\n",
       "      <td>6.0622</td>\n",
       "      <td>3</td>\n",
       "      <td>222.0</td>\n",
       "      <td>18.7</td>\n",
       "      <td>396.90</td>\n",
       "      <td>5.33</td>\n",
       "      <td>36.2</td>\n",
       "    </tr>\n",
       "    <tr>\n",
       "      <th>...</th>\n",
       "      <td>...</td>\n",
       "      <td>...</td>\n",
       "      <td>...</td>\n",
       "      <td>...</td>\n",
       "      <td>...</td>\n",
       "      <td>...</td>\n",
       "      <td>...</td>\n",
       "      <td>...</td>\n",
       "      <td>...</td>\n",
       "      <td>...</td>\n",
       "      <td>...</td>\n",
       "      <td>...</td>\n",
       "      <td>...</td>\n",
       "      <td>...</td>\n",
       "    </tr>\n",
       "    <tr>\n",
       "      <th>501</th>\n",
       "      <td>0.06263</td>\n",
       "      <td>0.0</td>\n",
       "      <td>11.93</td>\n",
       "      <td>0</td>\n",
       "      <td>0.573</td>\n",
       "      <td>6.593</td>\n",
       "      <td>69.1</td>\n",
       "      <td>2.4786</td>\n",
       "      <td>1</td>\n",
       "      <td>273.0</td>\n",
       "      <td>21.0</td>\n",
       "      <td>391.99</td>\n",
       "      <td>9.67</td>\n",
       "      <td>22.4</td>\n",
       "    </tr>\n",
       "    <tr>\n",
       "      <th>502</th>\n",
       "      <td>0.04527</td>\n",
       "      <td>0.0</td>\n",
       "      <td>11.93</td>\n",
       "      <td>0</td>\n",
       "      <td>0.573</td>\n",
       "      <td>6.120</td>\n",
       "      <td>76.7</td>\n",
       "      <td>2.2875</td>\n",
       "      <td>1</td>\n",
       "      <td>273.0</td>\n",
       "      <td>21.0</td>\n",
       "      <td>396.90</td>\n",
       "      <td>9.08</td>\n",
       "      <td>20.6</td>\n",
       "    </tr>\n",
       "    <tr>\n",
       "      <th>503</th>\n",
       "      <td>0.06076</td>\n",
       "      <td>0.0</td>\n",
       "      <td>11.93</td>\n",
       "      <td>0</td>\n",
       "      <td>0.573</td>\n",
       "      <td>6.976</td>\n",
       "      <td>91.0</td>\n",
       "      <td>2.1675</td>\n",
       "      <td>1</td>\n",
       "      <td>273.0</td>\n",
       "      <td>21.0</td>\n",
       "      <td>396.90</td>\n",
       "      <td>5.64</td>\n",
       "      <td>23.9</td>\n",
       "    </tr>\n",
       "    <tr>\n",
       "      <th>504</th>\n",
       "      <td>0.10959</td>\n",
       "      <td>0.0</td>\n",
       "      <td>11.93</td>\n",
       "      <td>0</td>\n",
       "      <td>0.573</td>\n",
       "      <td>6.794</td>\n",
       "      <td>89.3</td>\n",
       "      <td>2.3889</td>\n",
       "      <td>1</td>\n",
       "      <td>273.0</td>\n",
       "      <td>21.0</td>\n",
       "      <td>393.45</td>\n",
       "      <td>6.48</td>\n",
       "      <td>22.0</td>\n",
       "    </tr>\n",
       "    <tr>\n",
       "      <th>505</th>\n",
       "      <td>0.04741</td>\n",
       "      <td>0.0</td>\n",
       "      <td>11.93</td>\n",
       "      <td>0</td>\n",
       "      <td>0.573</td>\n",
       "      <td>6.030</td>\n",
       "      <td>80.8</td>\n",
       "      <td>2.5050</td>\n",
       "      <td>1</td>\n",
       "      <td>273.0</td>\n",
       "      <td>21.0</td>\n",
       "      <td>396.90</td>\n",
       "      <td>7.88</td>\n",
       "      <td>11.9</td>\n",
       "    </tr>\n",
       "  </tbody>\n",
       "</table>\n",
       "<p>506 rows × 14 columns</p>\n",
       "</div>"
      ],
      "text/plain": [
       "        CRIM    ZN  INDUS  CHAS    NOX     RM   AGE     DIS  RAD    TAX  \\\n",
       "0    0.00632  18.0   2.31     0  0.538  6.575  65.2  4.0900    1  296.0   \n",
       "1    0.02731   0.0   7.07     0  0.469  6.421  78.9  4.9671    2  242.0   \n",
       "2    0.02729   0.0   7.07     0  0.469  7.185  61.1  4.9671    2  242.0   \n",
       "3    0.03237   0.0   2.18     0  0.458  6.998  45.8  6.0622    3  222.0   \n",
       "4    0.06905   0.0   2.18     0  0.458  7.147  54.2  6.0622    3  222.0   \n",
       "..       ...   ...    ...   ...    ...    ...   ...     ...  ...    ...   \n",
       "501  0.06263   0.0  11.93     0  0.573  6.593  69.1  2.4786    1  273.0   \n",
       "502  0.04527   0.0  11.93     0  0.573  6.120  76.7  2.2875    1  273.0   \n",
       "503  0.06076   0.0  11.93     0  0.573  6.976  91.0  2.1675    1  273.0   \n",
       "504  0.10959   0.0  11.93     0  0.573  6.794  89.3  2.3889    1  273.0   \n",
       "505  0.04741   0.0  11.93     0  0.573  6.030  80.8  2.5050    1  273.0   \n",
       "\n",
       "     PTRATIO       B  LSTAT  MEDV  \n",
       "0       15.3  396.90   4.98  24.0  \n",
       "1       17.8  396.90   9.14  21.6  \n",
       "2       17.8  392.83   4.03  34.7  \n",
       "3       18.7  394.63   2.94  33.4  \n",
       "4       18.7  396.90   5.33  36.2  \n",
       "..       ...     ...    ...   ...  \n",
       "501     21.0  391.99   9.67  22.4  \n",
       "502     21.0  396.90   9.08  20.6  \n",
       "503     21.0  396.90   5.64  23.9  \n",
       "504     21.0  393.45   6.48  22.0  \n",
       "505     21.0  396.90   7.88  11.9  \n",
       "\n",
       "[506 rows x 14 columns]"
      ]
     },
     "execution_count": 3,
     "metadata": {},
     "output_type": "execute_result"
    }
   ],
   "source": [
    "# this data can also be accessed through scikit-learn using sklearn.datasets.load_boston\n",
    "with open('housing.names') as housing_metadata_file:\n",
    "    data_info = housing_metadata_file.readlines()\n",
    "df_housing = pandas.read_csv('housing.csv', )\n",
    "df_housing"
   ]
  },
  {
   "cell_type": "code",
   "execution_count": 4,
   "metadata": {},
   "outputs": [
    {
     "name": "stdout",
     "output_type": "stream",
     "text": [
      "Description of the feeatures in the dataset.\n",
      "    1. CRIM      per capita crime rate by town\n",
      "\n",
      "    2. ZN        proportion of residential land zoned for lots over \n",
      "\n",
      "                 25,000 sq.ft.\n",
      "\n",
      "    3. INDUS     proportion of non-retail business acres per town\n",
      "\n",
      "    4. CHAS      Charles River dummy variable (= 1 if tract bounds \n",
      "\n",
      "                 river; 0 otherwise)\n",
      "\n",
      "    5. NOX       nitric oxides concentration (parts per 10 million)\n",
      "\n",
      "    6. RM        average number of rooms per dwelling\n",
      "\n",
      "    7. AGE       proportion of owner-occupied units built prior to 1940\n",
      "\n",
      "    8. DIS       weighted distances to five Boston employment centres\n",
      "\n",
      "    9. RAD       index of accessibility to radial highways\n",
      "\n",
      "    10. TAX      full-value property-tax rate per $10,000\n",
      "\n",
      "    11. PTRATIO  pupil-teacher ratio by town\n",
      "\n",
      "    12. B        1000(Bk - 0.63)^2 where Bk is the proportion of blacks \n",
      "\n",
      "                 by town\n",
      "\n",
      "    13. LSTAT    % lower status of the population\n",
      "\n",
      "    14. MEDV     Median value of owner-occupied homes in $1000's\n",
      "\n"
     ]
    }
   ],
   "source": [
    "print('Description of the feeatures in the dataset.')\n",
    "print('\\n'.join([l1 for l1 in data_info[30:47] if l1.replace(' ','')]))"
   ]
  },
  {
   "cell_type": "code",
   "execution_count": 5,
   "metadata": {},
   "outputs": [
    {
     "name": "stdout",
     "output_type": "stream",
     "text": [
      "average value for target: 22.532806324110677\n"
     ]
    }
   ],
   "source": [
    "target_name = 'MEDV'\n",
    "target_average = df_housing.MEDV.mean()\n",
    "print(f'average value for target: {target_average}')"
   ]
  },
  {
   "cell_type": "code",
   "execution_count": 6,
   "metadata": {},
   "outputs": [],
   "source": [
    "numerical_features_names = ['CRIM', 'ZN', 'INDUS', 'NOX', 'RM', 'AGE', 'DIS', 'RAD', 'TAX', 'PTRATIO', 'B', 'LSTAT']\n",
    "binary_features_names = ['CHAS']"
   ]
  },
  {
   "cell_type": "markdown",
   "metadata": {},
   "source": [
    "### Data preprocessing\n",
    "From this dataset we need to identify which columns represent input features, and which column represents our target. In this case \"MEDV\", the median house price for area represented by each row, is our target, and all the other columns are input features. These are mostly continuously valued real numbers, so we will apply standard normalisation. The \"CHAS\" variables, which represents whether the area is adjacent to the Charles River which flows through Boston, is a binary variable (1 if adjacent, 0 if not) and so is already to use."
   ]
  },
  {
   "cell_type": "code",
   "execution_count": 7,
   "metadata": {},
   "outputs": [],
   "source": [
    "scaler1 = sklearn.preprocessing.StandardScaler()\n",
    "_ = scaler1.fit(df_housing[numerical_features_names])"
   ]
  },
  {
   "cell_type": "code",
   "execution_count": 8,
   "metadata": {},
   "outputs": [],
   "source": [
    "df_housing_pp = pandas.concat(\n",
    "    [pandas.DataFrame(data=scaler1.transform(df_housing[numerical_features_names]),columns=numerical_features_names),\n",
    "     df_housing[binary_features_names], \n",
    "     df_housing[[target_name]]],\n",
    "    sort=False,\n",
    "    axis=1)\n"
   ]
  },
  {
   "cell_type": "markdown",
   "metadata": {},
   "source": [
    "### Exploration and feature selection\n",
    "As an initial exploration we may want to look for correlations between the input features and the target variable to use only relevant variables for prediction. Alternatively we can try a dimensionality reduction technique like principal component analysis."
   ]
  },
  {
   "cell_type": "code",
   "execution_count": 9,
   "metadata": {},
   "outputs": [
    {
     "data": {
      "image/png": "[encoded data removed]",
      "text/plain": [
       "<Figure size 432x288 with 1 Axes>"
      ]
     },
     "metadata": {
      "needs_background": "light"
     },
     "output_type": "display_data"
    }
   ],
   "source": [
    "corr1 = numpy.corrcoef(df_housing_pp.to_numpy().transpose())\n",
    "fig1 = matplotlib.pyplot.figure('feature correlation heatmap')\n",
    "ax1 = fig1.add_subplot(111)\n",
    "_ = ax1.imshow(corr1,cmap='hot')\n"
   ]
  },
  {
   "cell_type": "code",
   "execution_count": 10,
   "metadata": {},
   "outputs": [
    {
     "data": {
      "image/png": "[encoded data removed]",
      "text/plain": [
       "<Figure size 432x288 with 1 Axes>"
      ]
     },
     "metadata": {
      "needs_background": "light"
     },
     "output_type": "display_data"
    }
   ],
   "source": [
    "_ = pandas.DataFrame.from_dict({\n",
    "    'features': list(df_housing_pp.columns)[:-1], \n",
    "    'correlation': corr1[:,-1][:-1]\n",
    "}).plot.bar(x='features',y='correlation')\n"
   ]
  },
  {
   "cell_type": "code",
   "execution_count": 11,
   "metadata": {},
   "outputs": [],
   "source": [
    "max_corr_features = ['LSTAT','PTRATIO','RM']"
   ]
  },
  {
   "cell_type": "code",
   "execution_count": 12,
   "metadata": {},
   "outputs": [
    {
     "data": {
      "text/html": [
       "<div>\n",
       "<style scoped>\n",
       "    .dataframe tbody tr th:only-of-type {\n",
       "        vertical-align: middle;\n",
       "    }\n",
       "\n",
       "    .dataframe tbody tr th {\n",
       "        vertical-align: top;\n",
       "    }\n",
       "\n",
       "    .dataframe thead th {\n",
       "        text-align: right;\n",
       "    }\n",
       "</style>\n",
       "<table border=\"1\" class=\"dataframe\">\n",
       "  <thead>\n",
       "    <tr style=\"text-align: right;\">\n",
       "      <th></th>\n",
       "      <th>LSTAT</th>\n",
       "      <th>PTRATIO</th>\n",
       "      <th>RM</th>\n",
       "      <th>MEDV</th>\n",
       "    </tr>\n",
       "  </thead>\n",
       "  <tbody>\n",
       "    <tr>\n",
       "      <th>0</th>\n",
       "      <td>-1.075562</td>\n",
       "      <td>-1.459000</td>\n",
       "      <td>0.413672</td>\n",
       "      <td>24.0</td>\n",
       "    </tr>\n",
       "    <tr>\n",
       "      <th>1</th>\n",
       "      <td>-0.492439</td>\n",
       "      <td>-0.303094</td>\n",
       "      <td>0.194274</td>\n",
       "      <td>21.6</td>\n",
       "    </tr>\n",
       "    <tr>\n",
       "      <th>2</th>\n",
       "      <td>-1.208727</td>\n",
       "      <td>-0.303094</td>\n",
       "      <td>1.282714</td>\n",
       "      <td>34.7</td>\n",
       "    </tr>\n",
       "    <tr>\n",
       "      <th>3</th>\n",
       "      <td>-1.361517</td>\n",
       "      <td>0.113032</td>\n",
       "      <td>1.016303</td>\n",
       "      <td>33.4</td>\n",
       "    </tr>\n",
       "    <tr>\n",
       "      <th>4</th>\n",
       "      <td>-1.026501</td>\n",
       "      <td>0.113032</td>\n",
       "      <td>1.228577</td>\n",
       "      <td>36.2</td>\n",
       "    </tr>\n",
       "    <tr>\n",
       "      <th>...</th>\n",
       "      <td>...</td>\n",
       "      <td>...</td>\n",
       "      <td>...</td>\n",
       "      <td>...</td>\n",
       "    </tr>\n",
       "    <tr>\n",
       "      <th>501</th>\n",
       "      <td>-0.418147</td>\n",
       "      <td>1.176466</td>\n",
       "      <td>0.439316</td>\n",
       "      <td>22.4</td>\n",
       "    </tr>\n",
       "    <tr>\n",
       "      <th>502</th>\n",
       "      <td>-0.500850</td>\n",
       "      <td>1.176466</td>\n",
       "      <td>-0.234548</td>\n",
       "      <td>20.6</td>\n",
       "    </tr>\n",
       "    <tr>\n",
       "      <th>503</th>\n",
       "      <td>-0.983048</td>\n",
       "      <td>1.176466</td>\n",
       "      <td>0.984960</td>\n",
       "      <td>23.9</td>\n",
       "    </tr>\n",
       "    <tr>\n",
       "      <th>504</th>\n",
       "      <td>-0.865302</td>\n",
       "      <td>1.176466</td>\n",
       "      <td>0.725672</td>\n",
       "      <td>22.0</td>\n",
       "    </tr>\n",
       "    <tr>\n",
       "      <th>505</th>\n",
       "      <td>-0.669058</td>\n",
       "      <td>1.176466</td>\n",
       "      <td>-0.362767</td>\n",
       "      <td>11.9</td>\n",
       "    </tr>\n",
       "  </tbody>\n",
       "</table>\n",
       "<p>506 rows × 4 columns</p>\n",
       "</div>"
      ],
      "text/plain": [
       "        LSTAT   PTRATIO        RM  MEDV\n",
       "0   -1.075562 -1.459000  0.413672  24.0\n",
       "1   -0.492439 -0.303094  0.194274  21.6\n",
       "2   -1.208727 -0.303094  1.282714  34.7\n",
       "3   -1.361517  0.113032  1.016303  33.4\n",
       "4   -1.026501  0.113032  1.228577  36.2\n",
       "..        ...       ...       ...   ...\n",
       "501 -0.418147  1.176466  0.439316  22.4\n",
       "502 -0.500850  1.176466 -0.234548  20.6\n",
       "503 -0.983048  1.176466  0.984960  23.9\n",
       "504 -0.865302  1.176466  0.725672  22.0\n",
       "505 -0.669058  1.176466 -0.362767  11.9\n",
       "\n",
       "[506 rows x 4 columns]"
      ]
     },
     "execution_count": 12,
     "metadata": {},
     "output_type": "execute_result"
    }
   ],
   "source": [
    "df_housing_corrs = df_housing_pp[max_corr_features + [target_name]]\n",
    "df_housing_corrs"
   ]
  },
  {
   "cell_type": "markdown",
   "metadata": {},
   "source": [
    "The three variables with the highest correlation magnitude are LSTAT, PTRATIO and RM, so we might want to select these variables if we were choosing subset of features."
   ]
  },
  {
   "cell_type": "markdown",
   "metadata": {},
   "source": [
    "An alternative to find a thre component dataset is to use a dimensionality reduction technique like principal component analysis (PCA)."
   ]
  },
  {
   "cell_type": "code",
   "execution_count": 13,
   "metadata": {},
   "outputs": [
    {
     "data": {
      "text/html": [
       "<div>\n",
       "<style scoped>\n",
       "    .dataframe tbody tr th:only-of-type {\n",
       "        vertical-align: middle;\n",
       "    }\n",
       "\n",
       "    .dataframe tbody tr th {\n",
       "        vertical-align: top;\n",
       "    }\n",
       "\n",
       "    .dataframe thead th {\n",
       "        text-align: right;\n",
       "    }\n",
       "</style>\n",
       "<table border=\"1\" class=\"dataframe\">\n",
       "  <thead>\n",
       "    <tr style=\"text-align: right;\">\n",
       "      <th></th>\n",
       "      <th>comp1</th>\n",
       "      <th>comp2</th>\n",
       "      <th>comp3</th>\n",
       "      <th>MEDV</th>\n",
       "    </tr>\n",
       "  </thead>\n",
       "  <tbody>\n",
       "    <tr>\n",
       "      <th>0</th>\n",
       "      <td>-2.097292</td>\n",
       "      <td>-0.726005</td>\n",
       "      <td>0.917715</td>\n",
       "      <td>24.0</td>\n",
       "    </tr>\n",
       "    <tr>\n",
       "      <th>1</th>\n",
       "      <td>-1.456071</td>\n",
       "      <td>-0.942911</td>\n",
       "      <td>-0.193986</td>\n",
       "      <td>21.6</td>\n",
       "    </tr>\n",
       "    <tr>\n",
       "      <th>2</th>\n",
       "      <td>-2.073516</td>\n",
       "      <td>-0.628606</td>\n",
       "      <td>0.664419</td>\n",
       "      <td>34.7</td>\n",
       "    </tr>\n",
       "    <tr>\n",
       "      <th>3</th>\n",
       "      <td>-2.610234</td>\n",
       "      <td>-0.131954</td>\n",
       "      <td>0.066014</td>\n",
       "      <td>33.4</td>\n",
       "    </tr>\n",
       "    <tr>\n",
       "      <th>4</th>\n",
       "      <td>-2.456938</td>\n",
       "      <td>-0.228519</td>\n",
       "      <td>0.154069</td>\n",
       "      <td>36.2</td>\n",
       "    </tr>\n",
       "    <tr>\n",
       "      <th>...</th>\n",
       "      <td>...</td>\n",
       "      <td>...</td>\n",
       "      <td>...</td>\n",
       "      <td>...</td>\n",
       "    </tr>\n",
       "    <tr>\n",
       "      <th>501</th>\n",
       "      <td>-0.313789</td>\n",
       "      <td>-1.138106</td>\n",
       "      <td>-0.279851</td>\n",
       "      <td>22.4</td>\n",
       "    </tr>\n",
       "    <tr>\n",
       "      <th>502</th>\n",
       "      <td>-0.109305</td>\n",
       "      <td>-1.317488</td>\n",
       "      <td>-0.656767</td>\n",
       "      <td>20.6</td>\n",
       "    </tr>\n",
       "    <tr>\n",
       "      <th>503</th>\n",
       "      <td>-0.311342</td>\n",
       "      <td>-1.395726</td>\n",
       "      <td>0.410561</td>\n",
       "      <td>23.9</td>\n",
       "    </tr>\n",
       "    <tr>\n",
       "      <th>504</th>\n",
       "      <td>-0.269452</td>\n",
       "      <td>-1.348896</td>\n",
       "      <td>0.171112</td>\n",
       "      <td>22.0</td>\n",
       "    </tr>\n",
       "    <tr>\n",
       "      <th>505</th>\n",
       "      <td>-0.124595</td>\n",
       "      <td>-1.333393</td>\n",
       "      <td>-0.696167</td>\n",
       "      <td>11.9</td>\n",
       "    </tr>\n",
       "  </tbody>\n",
       "</table>\n",
       "<p>506 rows × 4 columns</p>\n",
       "</div>"
      ],
      "text/plain": [
       "        comp1     comp2     comp3  MEDV\n",
       "0   -2.097292 -0.726005  0.917715  24.0\n",
       "1   -1.456071 -0.942911 -0.193986  21.6\n",
       "2   -2.073516 -0.628606  0.664419  34.7\n",
       "3   -2.610234 -0.131954  0.066014  33.4\n",
       "4   -2.456938 -0.228519  0.154069  36.2\n",
       "..        ...       ...       ...   ...\n",
       "501 -0.313789 -1.138106 -0.279851  22.4\n",
       "502 -0.109305 -1.317488 -0.656767  20.6\n",
       "503 -0.311342 -1.395726  0.410561  23.9\n",
       "504 -0.269452 -1.348896  0.171112  22.0\n",
       "505 -0.124595 -1.333393 -0.696167  11.9\n",
       "\n",
       "[506 rows x 4 columns]"
      ]
     },
     "execution_count": 13,
     "metadata": {},
     "output_type": "execute_result"
    }
   ],
   "source": [
    "pca_features = ['comp1','comp2','comp3']\n",
    "decomp1 = sklearn.decomposition.PCA(n_components=len(pca_features))\n",
    "decomp1.fit(df_housing_pp[numerical_features_names + binary_features_names])\n",
    "df_housing_reduced = pandas.concat( [pandas.DataFrame(data=decomp1.transform(df_housing_pp[numerical_features_names + binary_features_names]), columns=pca_features),\n",
    "                                     df_housing_pp[[target_name]] ],\n",
    "                                   axis=1)\n",
    "df_housing_reduced"
   ]
  },
  {
   "cell_type": "code",
   "execution_count": 14,
   "metadata": {},
   "outputs": [
    {
     "data": {
      "text/plain": [
       "array([6.13885799, 1.34653527, 1.18396123])"
      ]
     },
     "execution_count": 14,
     "metadata": {},
     "output_type": "execute_result"
    }
   ],
   "source": [
    "decomp1.explained_variance_"
   ]
  },
  {
   "cell_type": "markdown",
   "metadata": {},
   "source": [
    "## Training a regressor\n",
    "\n",
    "Now that we have prepared the data, we can starting fitting regression algorithms. We can try several and see which performs best for this application. it is always good to start with simplest possible approach. A linear model is always a good starting point. When a human evaluates what a house is really worth, one usually starts by looking at the neighbours, so we can also try a nearest neighbour approach in ML with k nearest neighbours. We will try the following on regressors:\n",
    "* linear \n",
    "* k-neighbours\n",
    "* kernel ridge regression\n",
    "\n",
    "on each of of three input datasets\n",
    "* all features\n",
    "* max correlation features\n",
    "* dimensions reduced to three using PCA\n"
   ]
  },
  {
   "cell_type": "code",
   "execution_count": 15,
   "metadata": {},
   "outputs": [],
   "source": [
    "regressors_raw = {\n",
    "    'linear' : sklearn.linear_model.LinearRegression(),\n",
    "    'knn2' : sklearn.neighbors.KNeighborsRegressor(n_neighbors=2),\n",
    "    'knn5' : sklearn.neighbors.KNeighborsRegressor(n_neighbors=5),\n",
    "    'knn10' : sklearn.neighbors.KNeighborsRegressor(n_neighbors=10),\n",
    "    'kernel_ridge' : sklearn.kernel_ridge.KernelRidge(kernel='polynomial'),\n",
    "    'decision_tree' : sklearn.tree.DecisionTreeRegressor(),\n",
    "    'random_forest' : sklearn.ensemble.RandomForestRegressor(),\n",
    "    'neural_net' : sklearn.neural_network.MLPRegressor(hidden_layer_sizes=[10,10,10],max_iter=5000),\n",
    "}"
   ]
  },
  {
   "cell_type": "code",
   "execution_count": 16,
   "metadata": {},
   "outputs": [],
   "source": [
    "feature_datasets_dict = {\n",
    "    'full': df_housing_pp[numerical_features_names + binary_features_names].to_numpy(),\n",
    "    'max_correlation': df_housing_corrs[max_corr_features].to_numpy(),\n",
    "    'pca': df_housing_reduced[pca_features].to_numpy(),\n",
    "}"
   ]
  },
  {
   "cell_type": "code",
   "execution_count": 17,
   "metadata": {},
   "outputs": [],
   "source": [
    "cv_results = {}\n",
    "n_splits = 5"
   ]
  },
  {
   "cell_type": "code",
   "execution_count": 18,
   "metadata": {},
   "outputs": [],
   "source": [
    "for ds_key, dataset1 in feature_datasets_dict.items():\n",
    "    for reg_key, regressor1 in regressors_raw.items():\n",
    "        cv_results[(ds_key, reg_key)] = sklearn.model_selection.cross_validate(\n",
    "            regressor1,\n",
    "            dataset1,\n",
    "            df_housing_pp[[target_name]].to_numpy().ravel(),\n",
    "#             scoring=sklearn.metrics.make_scorer(sklearn.metrics.mean_squared_error,squared=False),\n",
    "            scoring=sklearn.metrics.make_scorer(sklearn.metrics.r2_score),\n",
    "            cv=sklearn.model_selection.KFold(n_splits=n_splits,shuffle=True),\n",
    "            return_estimator=True,\n",
    "            return_train_score=True,\n",
    "\n",
    "        )\n",
    "                                           \n",
    "                                           "
   ]
  },
  {
   "cell_type": "markdown",
   "metadata": {},
   "source": [
    "## Evaluating performance\n",
    "\n",
    "To decide which algorithm has performed best, we need some way of measuring performance to captures what is important to us. For this notebook we will use two performance measures appropriate to regression problems\n",
    "* mean squared error \n",
    "* R2-score (coefficient of determination)\n",
    "\n",
    "Documentation:\n",
    "* https://scikit-learn.org/stable/modules/generated/sklearn.metrics.mean_squared_error.html\n",
    "* https://scikit-learn.org/stable/modules/generated/sklearn.metrics.r2_score.html\n",
    "\n",
    "Further Reading:\n",
    "* https://scikit-learn.org/stable/modules/model_evaluation.html#regression-metrics\n"
   ]
  },
  {
   "cell_type": "code",
   "execution_count": 22,
   "metadata": {},
   "outputs": [
    {
     "data": {
      "text/plain": [
       "{'fit_time': array([0.00116897, 0.0007937 , 0.00076652, 0.00066805, 0.00061893]),\n",
       " 'score_time': array([0.00054884, 0.00044179, 0.00044084, 0.00037885, 0.00038171]),\n",
       " 'estimator': (LinearRegression(copy_X=True, fit_intercept=True, n_jobs=None, normalize=False),\n",
       "  LinearRegression(copy_X=True, fit_intercept=True, n_jobs=None, normalize=False),\n",
       "  LinearRegression(copy_X=True, fit_intercept=True, n_jobs=None, normalize=False),\n",
       "  LinearRegression(copy_X=True, fit_intercept=True, n_jobs=None, normalize=False),\n",
       "  LinearRegression(copy_X=True, fit_intercept=True, n_jobs=None, normalize=False)),\n",
       " 'test_score': array([0.73029166, 0.75945244, 0.66264234, 0.68042496, 0.74868411]),\n",
       " 'train_score': array([0.73936076, 0.73267671, 0.76032036, 0.74970731, 0.73446138])}"
      ]
     },
     "execution_count": 22,
     "metadata": {},
     "output_type": "execute_result"
    }
   ],
   "source": []
  },
  {
   "cell_type": "code",
   "execution_count": 36,
   "metadata": {},
   "outputs": [],
   "source": [
    "cv_metrics = pandas.DataFrame.from_dict({\n",
    "    'experiment': ['{0}_{1}'.format(k1[0],k1[1]) for k1,v1 in cv_results.items()],\n",
    "    'cv_mean': [numpy.mean(v1['test_score']) for k1,v1 in cv_results.items()],\n",
    "    'cv1': [v1['test_score'][0] for k1,v1 in cv_results.items()],\n",
    "    'cv2': [v1['test_score'][1] for k1,v1 in cv_results.items()],\n",
    "    'cv3': [v1['test_score'][2] for k1,v1 in cv_results.items()],\n",
    "    'cv4': [v1['test_score'][3] for k1,v1 in cv_results.items()],\n",
    "    'cv5': [v1['test_score'][4] for k1,v1 in cv_results.items()],\n",
    "})"
   ]
  },
  {
   "cell_type": "code",
   "execution_count": 37,
   "metadata": {},
   "outputs": [
    {
     "data": {
      "text/plain": [
       "<matplotlib.axes._subplots.AxesSubplot at 0x7f4e7ecc9f70>"
      ]
     },
     "execution_count": 37,
     "metadata": {},
     "output_type": "execute_result"
    },
    {
     "data": {
      "image/png": "[encoded data removed]",
      "text/plain": [
       "<Figure size 1728x864 with 1 Axes>"
      ]
     },
     "metadata": {
      "needs_background": "light"
     },
     "output_type": "display_data"
    }
   ],
   "source": [
    "fig_metrics = matplotlib.pyplot.figure('regression_metrics', figsize=(24,12))\n",
    "ax_metrics = fig_metrics.add_subplot(111)\n",
    "cv_metrics.plot.bar(ax=ax_metrics, x='experiment',y='cv_mean')"
   ]
  },
  {
   "cell_type": "markdown",
   "metadata": {},
   "source": [
    "## Further reading\n",
    "This notebook is focused on how to use the scikit-learn library to process this example dataset. The choices here are fairly naive. For more in depth of analysis of how to find the best model for this dataset, the following blog post looks at important questions for any machine learning project in the context of this standard dataset:\n",
    "* https://towardsdatascience.com/machine-learning-project-predicting-boston-house-prices-with-regression-b4e47493633d"
   ]
  }
 ],
 "metadata": {
  "kernelspec": {
   "display_name": "XBT test 20200128",
   "language": "python",
   "name": "xbt_test_20200128"
  },
  "language_info": {
   "codemirror_mode": {
    "name": "ipython",
    "version": 3
   },
   "file_extension": ".py",
   "mimetype": "text/x-python",
   "name": "python",
   "nbconvert_exporter": "python",
   "pygments_lexer": "ipython3",
   "version": "3.8.1"
  }
 },
 "nbformat": 4,
 "nbformat_minor": 4
}
