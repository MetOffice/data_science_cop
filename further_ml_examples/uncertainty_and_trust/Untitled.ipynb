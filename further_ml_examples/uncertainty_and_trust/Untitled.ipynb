{
 "cells": [
  {
   "cell_type": "markdown",
   "id": "d0b77e65-bfc8-4028-8908-723e33db960d",
   "metadata": {},
   "source": [
    "# FastAPI for ML\n",
    "\n",
    "Aims of the notebook\n",
    "Build a basic API to serve ML outputs using fastapi\n",
    "Demonstrate what the design of such an API might look like\n",
    "\n",
    "see [wine_inference_api.py] as a start\n",
    "\n",
    "fast api docs https://fastapi.tiangolo.com/"
   ]
  },
  {
   "cell_type": "code",
   "execution_count": null,
   "id": "fcc39d84-9437-40b0-ba6a-5fd71a7f9249",
   "metadata": {},
   "outputs": [],
   "source": []
  }
 ],
 "metadata": {
  "kernelspec": {
   "display_name": "Python 3 (ipykernel)",
   "language": "python",
   "name": "python3"
  },
  "language_info": {
   "codemirror_mode": {
    "name": "ipython",
    "version": 3
   },
   "file_extension": ".py",
   "mimetype": "text/x-python",
   "name": "python",
   "nbconvert_exporter": "python",
   "pygments_lexer": "ipython3",
   "version": "3.8.12"
  }
 },
 "nbformat": 4,
 "nbformat_minor": 5
}
