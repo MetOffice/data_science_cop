{
 "cells": [
  {
   "cell_type": "markdown",
   "id": "8260a7e2-6870-4264-bfd8-ddefffe43c1e",
   "metadata": {},
   "source": [
    "# Scikit-explain demo\n",
    "\n",
    "### Aims of the notebook\n",
    "\n",
    "* fit a basic classification model to a benchmark dataset\n",
    "* demonstrate use of scikit explain for XAI\n",
    "  * base on demo notebooks in docs https://pypi.org/project/scikit-explain/\n",
    "  \n",
    " suggested benchmasrk datasets\n",
    "https://drive.google.com/drive/folders/1FeZ_yLilvmE1qUp2QRv_wGSfAsJroMIW?usp=share_link\n"
   ]
  },
  {
   "cell_type": "code",
   "execution_count": null,
   "id": "c53a827c-b73d-46d8-b219-f730abd41129",
   "metadata": {},
   "outputs": [],
   "source": []
  }
 ],
 "metadata": {
  "kernelspec": {
   "display_name": "Python 3 (ipykernel)",
   "language": "python",
   "name": "python3"
  },
  "language_info": {
   "codemirror_mode": {
    "name": "ipython",
    "version": 3
   },
   "file_extension": ".py",
   "mimetype": "text/x-python",
   "name": "python",
   "nbconvert_exporter": "python",
   "pygments_lexer": "ipython3",
   "version": "3.8.12"
  }
 },
 "nbformat": 4,
 "nbformat_minor": 5
}
