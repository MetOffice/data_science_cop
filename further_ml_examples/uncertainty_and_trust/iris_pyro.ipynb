{
 "cells": [
  {
   "cell_type": "markdown",
   "id": "b8cf1ef8-cc1c-4d8f-ab3f-abef70555bd7",
   "metadata": {},
   "source": [
    "# Iris classification in Pyro\n",
    "\n",
    "aims of notebook\n",
    "* demonstrate use of pyro for probabilistic classification on iris benchmasrk dataset\n",
    "\n",
    "Other benchmasrk datasets might be tried in this or another notebook"
   ]
  },
  {
   "cell_type": "code",
   "execution_count": null,
   "id": "8a1d35fd-31b2-4597-8c74-b943461e6d98",
   "metadata": {},
   "outputs": [],
   "source": [
    "import numpy as np\n",
    "import pandas as pd\n",
    "import torch\n",
    "import pyro\n",
    "import pyro.distributions as dist"
   ]
  },
  {
   "cell_type": "code",
   "execution_count": null,
   "id": "c3b39c18-5bb4-4da1-a9da-ca108d0e5d5d",
   "metadata": {},
   "outputs": [],
   "source": [
    "# Load the Iris dataset\n",
    "iris = pd.read_csv('https://archive.ics.uci.edu/ml/machine-learning-databases/iris/iris.data',\n",
    "                   header=None, names=['sepal_length', 'sepal_width', 'petal_length', 'petal_width', 'species'])\n",
    "iris = iris.drop(columns='species')\n"
   ]
  },
  {
   "cell_type": "code",
   "execution_count": null,
   "id": "3623661f-731f-4705-9f6f-36a21a8df92c",
   "metadata": {},
   "outputs": [],
   "source": [
    "# Define a probabilistic model using Pyro\n",
    "def model(data):\n",
    "    # Priors over the parameters of a Gaussian mixture model\n",
    "    weights = pyro.sample('weights', dist.Dirichlet(torch.ones(3)))\n",
    "    means = pyro.sample('means', dist.Normal(torch.zeros(3), 10 * torch.ones(3)))\n",
    "    scales = pyro.sample('scales', dist.LogNormal(torch.zeros(3), 10 * torch.ones(3)))\n",
    "\n",
    "    # Mixture components\n",
    "    with pyro.plate('data', len(data)):\n",
    "        z = pyro.sample('z', dist.Categorical(weights))\n",
    "        pyro.sample('obs', dist.Normal(means[z], scales[z]), obs=data)\n"
   ]
  },
  {
   "cell_type": "code",
   "execution_count": null,
   "id": "8fff3bfe-5e10-4ab9-a86a-947c2befa18b",
   "metadata": {},
   "outputs": [],
   "source": [
    "\n",
    "# Define a variational distribution using Pyro\n",
    "def guide(data):\n",
    "    # Approximate posterior over the parameters of the Gaussian mixture model\n",
    "    alpha = pyro.param('alpha', torch.ones(3), constraint=dist.constraints.positive)\n",
    "    beta = pyro.param('beta', torch.randn(3), constraint=dist.constraints.positive)\n",
    "    gamma = pyro.param('gamma', torch.randn(3), constraint=dist.constraints.positive)\n",
    "    weights = pyro.sample('weights', dist.Dirichlet(alpha))\n",
    "    means = pyro.sample('means', dist.Normal(beta, gamma))\n",
    "    scales = pyro.sample('scales', dist.LogNormal(beta, gamma))\n",
    "\n",
    "    \n"
   ]
  },
  {
   "cell_type": "code",
   "execution_count": null,
   "id": "30eb00cc-93cc-48ed-9bcc-259665d6b524",
   "metadata": {},
   "outputs": [],
   "source": [
    "\n",
    "\n",
    "# Define an optimizer\n",
    "optimizer = pyro.optim.Adam({'lr': 0.01})\n",
    "\n",
    "# Create a Pyro SVI object for variational inference\n",
    "svi = pyro.infer.SVI(model, guide, optimizer, loss=pyro.infer.Trace_ELBO())\n",
    "\n",
    "# Train the model using variational inference\n",
    "data = torch.tensor(iris.values, dtype=torch.float32)\n",
    "for i in range(1000):\n",
    "    loss = svi.step(data)\n",
    "    if i % 100 == 0:\n",
    "        print('iteration', i, 'loss', loss)\n",
    "\n",
    "# Extract the posterior distribution over the parameters of the model\n",
    "weights = pyro.param('alpha').detach().numpy() / np.sum(pyro.param('alpha').detach().numpy())\n",
    "means = pyro.param('beta').detach().numpy()\n",
    "scales = pyro.param('gamma').detach().numpy()\n",
    "\n",
    "# Print the results\n",
    "print('Inferred weights:', weights)\n",
    "print('Inferred means:', means)\n",
    "print('Inferred scales:', scales)\n"
   ]
  }
 ],
 "metadata": {
  "kernelspec": {
   "display_name": "Python 3 (ipykernel)",
   "language": "python",
   "name": "python3"
  },
  "language_info": {
   "codemirror_mode": {
    "name": "ipython",
    "version": 3
   },
   "file_extension": ".py",
   "mimetype": "text/x-python",
   "name": "python",
   "nbconvert_exporter": "python",
   "pygments_lexer": "ipython3",
   "version": "3.8.12"
  }
 },
 "nbformat": 4,
 "nbformat_minor": 5
}
